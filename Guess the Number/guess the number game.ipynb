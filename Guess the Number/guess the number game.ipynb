{
 "cells": [
  {
   "cell_type": "markdown",
   "metadata": {},
   "source": [
    "# Guess the number"
   ]
  },
  {
   "cell_type": "code",
   "execution_count": 9,
   "metadata": {},
   "outputs": [],
   "source": [
    "import random"
   ]
  },
  {
   "cell_type": "markdown",
   "metadata": {},
   "source": [
    "Code for GUess the number game."
   ]
  },
  {
   "cell_type": "code",
   "execution_count": 11,
   "metadata": {},
   "outputs": [
    {
     "name": "stdout",
     "output_type": "stream",
     "text": [
      "****Welcome****\n",
      "\n",
      "Guess a number between 1 and 100.\n",
      "You have 7 Guesses\n",
      "67\n",
      "number is too small\n",
      "70\n",
      "number is too small\n",
      "76\n",
      "number is too small\n",
      "79\n",
      "number is too small\n",
      "87\n",
      "number is too small\n",
      "95\n",
      "number is too small\n",
      "99\n",
      "\n",
      "!!!you have reached the count!!!\n",
      "number is:  97\n",
      "\n",
      "Do you want to play again? y/n y\n",
      "Guess a number between 1 and 100.\n",
      "You have 7 Guesses\n",
      "76\n",
      "number is too small\n",
      "89\n",
      "number is too small\n",
      "98\n",
      "number is too large\n",
      "91\n",
      "number is too large\n",
      "90\n",
      "****CONGRATULATIONS****\n",
      "you guessed it right.\n",
      "\n",
      "Do you want to play again? y/n n\n",
      "Thanks for playing\n"
     ]
    }
   ],
   "source": [
    "print('****Welcome****\\n')\n",
    "while True:\n",
    "    num = random.randint(1,101)\n",
    "    print(\"Guess a number between 1 and 100.\")\n",
    "    print('You have 7 Guesses')\n",
    "    n = int(input())\n",
    "    count = 1\n",
    "    while True:\n",
    "        if count < 7:\n",
    "            if n>num:\n",
    "                print('number is too large')\n",
    "                count+=1\n",
    "                n = int(input())\n",
    "            elif n<num:\n",
    "                print('number is too small')\n",
    "                count+=1\n",
    "                n = int(input())\n",
    "            elif num == n:\n",
    "                print('****CONGRATULATIONS****')\n",
    "                print('you guessed it right.')\n",
    "                break\n",
    "        elif count == 7:\n",
    "            if num == n:\n",
    "                print('****CONGRATULATIONS****')\n",
    "                print('you guessed it right.')\n",
    "                break\n",
    "            else:\n",
    "                print(\"\\n!!!you have reached the count!!!\")\n",
    "                print('number is: ', num)\n",
    "                break\n",
    "    a = input('\\nDo you want to play again? y/n ')\n",
    "    if a == 'n':\n",
    "        break\n",
    "    else:\n",
    "        continue          \n",
    "print('Thanks for playing')"
   ]
  },
  {
   "cell_type": "markdown",
   "metadata": {},
   "source": []
  },
  {
   "cell_type": "code",
   "execution_count": null,
   "metadata": {},
   "outputs": [],
   "source": []
  }
 ],
 "metadata": {
  "kernelspec": {
   "display_name": "Python 3",
   "language": "python",
   "name": "python3"
  },
  "language_info": {
   "codemirror_mode": {
    "name": "ipython",
    "version": 3
   },
   "file_extension": ".py",
   "mimetype": "text/x-python",
   "name": "python",
   "nbconvert_exporter": "python",
   "pygments_lexer": "ipython3",
   "version": "3.8.5"
  }
 },
 "nbformat": 4,
 "nbformat_minor": 4
}
