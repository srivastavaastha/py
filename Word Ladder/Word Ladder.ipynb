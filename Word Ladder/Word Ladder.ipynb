{
 "cells": [
  {
   "cell_type": "markdown",
   "metadata": {},
   "source": [
    "# Word Ladder Game"
   ]
  },
  {
   "cell_type": "markdown",
   "metadata": {},
   "source": [
    "**Getting Dictionary**\n",
    "\n",
    "First we'll get a publically available english dictionary. We can use any other language dictionary as well."
   ]
  },
  {
   "cell_type": "code",
   "execution_count": 4,
   "metadata": {},
   "outputs": [
    {
     "data": {
      "text/plain": [
       "80368"
      ]
     },
     "execution_count": 4,
     "metadata": {},
     "output_type": "execute_result"
    }
   ],
   "source": [
    "import urllib3\n",
    "http = urllib3.PoolManager()\n",
    "r = http.request('GET',\"https://docs.oracle.com/javase/tutorial/collections/interfaces/examples/dictionary.txt\", preload_content = False)\n",
    "with open(\"MyWord.txt\", 'wb') as out:\n",
    "    data = r.read()\n",
    "    out.write(data)\n",
    "r.release_conn()\n",
    "word_list = open(\"MyWord.txt\").readlines()\n",
    "word_list = list(map(str.strip, word_list))\n",
    "len(word_list)"
   ]
  },
  {
   "cell_type": "markdown",
   "metadata": {},
   "source": [
    "## Data Cleaning"
   ]
  },
  {
   "cell_type": "markdown",
   "metadata": {},
   "source": [
    "In this step we'll make a word list of all the words have alphabet in it and with word legnth equal to 3 (we can use words with word length greater than 3 also)"
   ]
  },
  {
   "cell_type": "code",
   "execution_count": 5,
   "metadata": {},
   "outputs": [
    {
     "data": {
      "text/plain": [
       "972"
      ]
     },
     "execution_count": 5,
     "metadata": {},
     "output_type": "execute_result"
    }
   ],
   "source": [
    "word_list = [word for word in word_list if len(word) == 3]\n",
    "word_list = [word for word in word_list if word.isalpha()]\n",
    "word_list = list(map(str.lower, word_list))\n",
    "len(word_list)"
   ]
  },
  {
   "cell_type": "code",
   "execution_count": 6,
   "metadata": {},
   "outputs": [
    {
     "data": {
      "text/plain": [
       "dtype('<U3')"
      ]
     },
     "execution_count": 6,
     "metadata": {},
     "output_type": "execute_result"
    }
   ],
   "source": [
    "import numpy as np\n",
    "word_list = np.asarray(word_list)\n",
    "word_list.sort()\n",
    "word_list.dtype"
   ]
  },
  {
   "cell_type": "markdown",
   "metadata": {},
   "source": [
    "## Data Compression"
   ]
  },
  {
   "cell_type": "code",
   "execution_count": 8,
   "metadata": {},
   "outputs": [
    {
     "name": "stdout",
     "output_type": "stream",
     "text": [
      "(972, 12)\n",
      "(972, 3)\n"
     ]
    }
   ],
   "source": [
    "word_bytes = np.ndarray((word_list.size, word_list.itemsize), dtype = 'uint8', buffer = word_list.data)\n",
    "print(word_bytes.shape)\n",
    "word_bytes = word_bytes[:, ::word_list.itemsize//3]\n",
    "print(word_bytes.shape)"
   ]
  },
  {
   "cell_type": "markdown",
   "metadata": {},
   "source": [
    "**Calculation of hamming distance**"
   ]
  },
  {
   "cell_type": "code",
   "execution_count": 18,
   "metadata": {},
   "outputs": [
    {
     "name": "stdout",
     "output_type": "stream",
     "text": [
      "['aah' 'aal' 'aas' 'aba']\n",
      "[[ 97  97 104]\n",
      " [ 97  97 108]\n",
      " [ 97  97 115]\n",
      " [ 97  98  97]]\n",
      "[0.33333333 0.33333333 0.66666667 ... 0.66666667 0.66666667 0.33333333]\n",
      "(471906,)\n"
     ]
    }
   ],
   "source": [
    "print(word_list[:4])\n",
    "print(word_bytes[:4])\n",
    "from scipy.spatial.distance import pdist, squareform\n",
    "from scipy.sparse import csr_matrix\n",
    "hamming_dist = pdist(word_bytes, metric= 'hamming')\n",
    "print(hamming_dist)\n",
    "print(hamming_dist.shape)"
   ]
  },
  {
   "cell_type": "code",
   "execution_count": 12,
   "metadata": {},
   "outputs": [
    {
     "name": "stdout",
     "output_type": "stream",
     "text": [
      "[[0.         0.33333333 0.33333333 0.66666667]\n",
      " [0.33333333 0.         0.33333333 0.66666667]\n",
      " [0.33333333 0.33333333 0.         0.66666667]\n",
      " [0.66666667 0.66666667 0.66666667 0.        ]]\n",
      "(972, 972)\n",
      "[[False  True  True False]\n",
      " [ True False  True False]\n",
      " [ True  True False False]\n",
      " [False False False False]]\n"
     ]
    }
   ],
   "source": [
    "print(squareform(hamming_dist)[0:4, 0:4])\n",
    "mat = squareform(hamming_dist < 1.5/3)\n",
    "print(mat.shape)\n",
    "print(mat[0:4, 0:4])\n",
    "graph = csr_matrix(mat)"
   ]
  },
  {
   "cell_type": "markdown",
   "metadata": {},
   "source": [
    "**Example**\n",
    "\n",
    "Taking two words 'and' and 'dog'. Let's check the hamming distance between them and print the ladder."
   ]
  },
  {
   "cell_type": "code",
   "execution_count": 14,
   "metadata": {},
   "outputs": [
    {
     "name": "stdout",
     "output_type": "stream",
     "text": [
      "and\n",
      "dog\n"
     ]
    }
   ],
   "source": [
    "i1 = word_list.searchsorted('and')\n",
    "i2 = word_list.searchsorted('dog')\n",
    "print(word_list[i1])\n",
    "print(word_list[i2])"
   ]
  },
  {
   "cell_type": "code",
   "execution_count": 15,
   "metadata": {},
   "outputs": [
    {
     "name": "stdout",
     "output_type": "stream",
     "text": [
      "4.0\n"
     ]
    }
   ],
   "source": [
    "from scipy.sparse.csgraph import dijkstra\n",
    "distances, predecessors = dijkstra(graph, indices = i1, return_predecessors = True)\n",
    "print(distances[i2])"
   ]
  },
  {
   "cell_type": "code",
   "execution_count": 17,
   "metadata": {},
   "outputs": [
    {
     "name": "stdout",
     "output_type": "stream",
     "text": [
      "['and', 'aid', 'did', 'dig', 'dog']\n"
     ]
    }
   ],
   "source": [
    "path = []\n",
    "i = i2\n",
    "while i != i1:\n",
    "    path.append(word_list[i])\n",
    "    i = predecessors[i]\n",
    "path.append(word_list[i1])\n",
    "print(path[::-1])"
   ]
  },
  {
   "cell_type": "code",
   "execution_count": null,
   "metadata": {},
   "outputs": [],
   "source": []
  }
 ],
 "metadata": {
  "kernelspec": {
   "display_name": "Python 3",
   "language": "python",
   "name": "python3"
  },
  "language_info": {
   "codemirror_mode": {
    "name": "ipython",
    "version": 3
   },
   "file_extension": ".py",
   "mimetype": "text/x-python",
   "name": "python",
   "nbconvert_exporter": "python",
   "pygments_lexer": "ipython3",
   "version": "3.8.5"
  }
 },
 "nbformat": 4,
 "nbformat_minor": 4
}
