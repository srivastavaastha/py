{
 "cells": [
  {
   "cell_type": "markdown",
   "metadata": {},
   "source": [
    "# Rock Paper Scissors\n"
   ]
  },
  {
   "cell_type": "code",
   "execution_count": 1,
   "metadata": {},
   "outputs": [],
   "source": [
    "import random"
   ]
  },
  {
   "cell_type": "markdown",
   "metadata": {},
   "source": [
    "**Code for the Game.**"
   ]
  },
  {
   "cell_type": "code",
   "execution_count": 2,
   "metadata": {},
   "outputs": [
    {
     "name": "stdout",
     "output_type": "stream",
     "text": [
      "Welcome to the Rock Paper Scissors Game\n",
      "\n",
      "Game rules:\n",
      "Rock vs Paper: Paper wins\n",
      "Paper vs Scissors: Scissor wins\n",
      "Scissor vs Rock: Rock wins\n",
      "\n",
      "Choices-\n",
      "1: Rock\n",
      "2: Paper\n",
      "3: Scissor\n",
      "Enter your choice: 2\n",
      "Paper\n",
      "\n",
      "\n",
      "Now it's computer's chance\n",
      "Paper\n",
      "-----It's a tie-----\n",
      "\n",
      "\n",
      "Do you want to play again?\n",
      "y/n\n",
      "y\n",
      "Enter your choice: 3\n",
      "Scissor\n",
      "\n",
      "\n",
      "Now it's computer's chance\n",
      "Scissor\n",
      "-----It's a tie-----\n",
      "\n",
      "\n",
      "Do you want to play again?\n",
      "y/n\n",
      "y\n",
      "Enter your choice: 2\n",
      "Paper\n",
      "\n",
      "\n",
      "Now it's computer's chance\n",
      "Scissor\n",
      "!!!!Computer won!!!!\n",
      "\n",
      "\n",
      "Do you want to play again?\n",
      "y/n\n",
      "n\n",
      "Thanks for playing\n"
     ]
    }
   ],
   "source": [
    "print('Welcome to the Rock Paper Scissors Game\\n')\n",
    "print('Game rules:')\n",
    "print('Rock vs Paper: Paper wins\\n'+'Paper vs Scissors: Scissor wins\\n'+'Scissor vs Rock: Rock wins\\n')\n",
    "print('Choices-\\n'+'1: Rock\\n'+'2: Paper\\n'+'3: Scissor')\n",
    "while True:\n",
    "    u = int(input('Enter your choice: '))\n",
    "    \n",
    "    while u<1 or u>3:\n",
    "        print('Please Enter a valid option')\n",
    "        u = int(input('Enter your choice: '))\n",
    "    if u == 1:\n",
    "        print('Rock')\n",
    "    elif u == 2:\n",
    "        print('Paper')\n",
    "    elif u == 3:\n",
    "        print('Scissor')\n",
    "               \n",
    "    print('\\n')\n",
    "    print(\"Now it's computer's chance\")\n",
    "    comp = random.randint(1,3)\n",
    "    if comp == 1:\n",
    "        print('Rock')\n",
    "    elif comp == 2:\n",
    "        print('Paper')\n",
    "    elif comp == 3:\n",
    "        print('Scissor')\n",
    "    if u == comp:\n",
    "        print(\"-----It's a tie-----\")\n",
    "    elif (u == 1 and comp == 3) or (u == 2 and comp == 1) or (u == 3 and comp == 2):\n",
    "        print('*****Congratulations you won*****')\n",
    "    else:\n",
    "        print('!!!!Computer won!!!!')\n",
    "\n",
    "    print('\\n')\n",
    "    print('Do you want to play again?\\n'+'y/n')\n",
    "    a = input()\n",
    "    if a == 'n':\n",
    "        break\n",
    "print('Thanks for playing')"
   ]
  },
  {
   "cell_type": "code",
   "execution_count": null,
   "metadata": {},
   "outputs": [],
   "source": []
  }
 ],
 "metadata": {
  "kernelspec": {
   "display_name": "Python 3",
   "language": "python",
   "name": "python3"
  },
  "language_info": {
   "codemirror_mode": {
    "name": "ipython",
    "version": 3
   },
   "file_extension": ".py",
   "mimetype": "text/x-python",
   "name": "python",
   "nbconvert_exporter": "python",
   "pygments_lexer": "ipython3",
   "version": "3.8.5"
  }
 },
 "nbformat": 4,
 "nbformat_minor": 4
}
