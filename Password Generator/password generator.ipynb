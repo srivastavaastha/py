{
 "cells": [
  {
   "cell_type": "markdown",
   "metadata": {},
   "source": [
    "# Password Generator"
   ]
  },
  {
   "cell_type": "markdown",
   "metadata": {},
   "source": [
    "Import all the important libraries"
   ]
  },
  {
   "cell_type": "code",
   "execution_count": 1,
   "metadata": {},
   "outputs": [],
   "source": [
    "import random\n",
    "import string"
   ]
  },
  {
   "cell_type": "markdown",
   "metadata": {},
   "source": [
    "Writing code for generating pasword."
   ]
  },
  {
   "cell_type": "code",
   "execution_count": 4,
   "metadata": {},
   "outputs": [
    {
     "name": "stdout",
     "output_type": "stream",
     "text": [
      "PASSWORD GENERATOR\n",
      "How long do you want to have your password? 8\n",
      "number of letters- 5\n",
      "number of digits- 2\n",
      "enter valid number- 3\n",
      "24NvnbL8\n"
     ]
    }
   ],
   "source": [
    "print('PASSWORD GENERATOR')\n",
    "l = int(input(\"How long do you want to have your password? \"))\n",
    "if l<6:\n",
    "    l = int(input('enter a number greater than 6 '))\n",
    "a = int(input(\"number of letters- \"))\n",
    "n = int(input(\"number of digits- \"))\n",
    "if n!=(l-a):\n",
    "    n = int(input('enter valid number- '))\n",
    "pas1 = ''.join(random.choice(string.ascii_letters) for i in range(a))\n",
    "pas2 = ''.join(random.choice(string.digits) for j in range(n))\n",
    "print(''.join(random.sample(pas1+pas2, l)))"
   ]
  },
  {
   "cell_type": "code",
   "execution_count": null,
   "metadata": {},
   "outputs": [],
   "source": []
  }
 ],
 "metadata": {
  "kernelspec": {
   "display_name": "Python 3",
   "language": "python",
   "name": "python3"
  },
  "language_info": {
   "codemirror_mode": {
    "name": "ipython",
    "version": 3
   },
   "file_extension": ".py",
   "mimetype": "text/x-python",
   "name": "python",
   "nbconvert_exporter": "python",
   "pygments_lexer": "ipython3",
   "version": "3.8.5"
  }
 },
 "nbformat": 4,
 "nbformat_minor": 4
}
